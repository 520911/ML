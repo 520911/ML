{
  "nbformat": 4,
  "nbformat_minor": 0,
  "metadata": {
    "colab": {
      "provenance": [],
      "collapsed_sections": []
    },
    "kernelspec": {
      "name": "python3",
      "display_name": "Python 3"
    },
    "language_info": {
      "name": "python"
    }
  },
  "cells": [
    {
      "cell_type": "code",
      "execution_count": null,
      "metadata": {
        "id": "1N5Il2xBF--m"
      },
      "outputs": [],
      "source": [
        "import numpy as np\n",
        "import pandas as pd\n",
        "from sklearn.datasets import load_iris\n",
        "from sklearn.model_selection import train_test_split\n",
        "from sklearn.metrics import accuracy_score "
      ]
    },
    {
      "cell_type": "markdown",
      "source": [
        "Загрузите данные. Используйте датасет с ирисами. Его можно загрузить непосредственно из библиотеки Sklearn. В данных оставьте только 2 класса: Iris Versicolor, Iris Virginica."
      ],
      "metadata": {
        "id": "Z14bVNJsZZ_8"
      }
    },
    {
      "cell_type": "code",
      "source": [
        "data, target = load_iris(return_X_y=True)\n",
        "target = target"
      ],
      "metadata": {
        "id": "V45erXHVG-CA"
      },
      "execution_count": null,
      "outputs": []
    },
    {
      "cell_type": "code",
      "source": [
        "data = data[target != 2]\n",
        "target = target[target != 2]"
      ],
      "metadata": {
        "id": "5anxYBAn2yxn"
      },
      "execution_count": null,
      "outputs": []
    },
    {
      "cell_type": "markdown",
      "source": [
        "Самостоятельно реализуйте логистическую регрессию, без использования метода LogisticRegression из библиотеки. Можете использовать библиотеки pandas, numpy, math для реализации. Оформите в виде функции. *Оформите в виде класса с методами.\n",
        "\n",
        "Для метода скользящего среднего (Root Mean Square Propagation, RMSProp).\n",
        "\n",
        "Для ускоренного по Нестерову метода адаптивной оценки моментов (Nesterov–accelerated Adaptive Moment Estimation, Nadam)."
      ],
      "metadata": {
        "id": "jD4O0roYbfZb"
      }
    },
    {
      "cell_type": "code",
      "source": [
        "class LogisticRegression:\n",
        "  def __init__(self, x, y, lr=0.1, iterations=1000):\n",
        "      self.intercept = np.ones((x.shape[0], 1)) \n",
        "      self.x = np.concatenate((self.intercept, x), axis=1)\n",
        "      self.y = y\n",
        "      self.weight = np.zeros(self.x.shape[1])\n",
        "      self.lr = lr\n",
        "      self.iterations = iterations\n",
        "\n",
        "  def sigmoid(self, x, weight):\n",
        "    z = np.dot(x, weight)\n",
        "    return 1 / (1 + np.exp(-z))\n",
        "\n",
        "  def logloss(self, h, y):\n",
        "    return (-y * np.log(h) - (1 - y) * np.log(1 - h)).mean()\n",
        "  \n",
        "  def gradient(self, x, h, y):\n",
        "    return np.dot(x.T, (h - y)) / y.shape[0]\n",
        "  \n",
        "  def fit(self):\n",
        "    for _ in range(self.iterations):\n",
        "      sigma = self.sigmoid(self.x, self.weight)\n",
        "      loss = self.logloss(sigma, self.y)\n",
        "      dW = self.gradient(self.x, sigma, self.y)\n",
        "      self.weight -= self.lr * dW\n",
        "    return print('Fitting successfully')\n",
        "\n",
        "  def rmsprop(self):\n",
        "      eps = 0.00001\n",
        "      b = 0.99\n",
        "      dW2 = np.zeros(self.x.shape[1])\n",
        "      for _ in range(self.iterations):\n",
        "        sigma = self.sigmoid(self.x, self.weight)\n",
        "        loss = self.logloss(sigma, self.y)\n",
        "        dW = self.gradient(self.x, sigma, self.y)   \n",
        "        old_dW = dW2\n",
        "        dW2 = b * old_dW + (1 - b) * dW**2\n",
        "        self.weight -= self.lr * dW / (np.sqrt(dW2) + eps)\n",
        "      return print('Fitting rmsprop successfully')\n",
        "\n",
        "  def nadam(self):\n",
        "      b = 0.9\n",
        "      v = np.zeros(self.x.shape[1])\n",
        "      for _ in range(self.iterations):\n",
        "        sigma = self.sigmoid(self.x, self.weight)\n",
        "        loss = self.logloss(sigma, self.y)\n",
        "        dW = self.gradient(self.x, sigma, self.y)\n",
        "        old_v = v\n",
        "        v = b * v - self.lr * dW\n",
        "        self.weight = b * old_v + (1 - b) * v\n",
        "\n",
        "      return print('Fitting nadam successfully')\n",
        "\n",
        "  def predict(self, x_new):\n",
        "    x_new = np.concatenate((np.ones((x_new.shape[0], 1)) , x_new), axis=1)\n",
        "    result = self.sigmoid(x_new, self.weight)\n",
        "    result = result >= 0.5\n",
        "    return result.astype(int)"
      ],
      "metadata": {
        "id": "0sIAWvku_4Bi"
      },
      "execution_count": null,
      "outputs": []
    },
    {
      "cell_type": "code",
      "source": [
        "from scipy.sparse.construct import random\n",
        "X_train, X_test, y_train, y_test = train_test_split(data, target, test_size=0.2, random_state=42)"
      ],
      "metadata": {
        "id": "aBGzSRdgl7fU"
      },
      "execution_count": null,
      "outputs": []
    },
    {
      "cell_type": "code",
      "source": [
        "# Градиент\n",
        "reg = LogisticRegression(X_train, y_train)"
      ],
      "metadata": {
        "id": "wsVsG-ARiwfv"
      },
      "execution_count": null,
      "outputs": []
    },
    {
      "cell_type": "code",
      "source": [
        "reg.fit()"
      ],
      "metadata": {
        "colab": {
          "base_uri": "https://localhost:8080/"
        },
        "id": "POghDjZdl5HW",
        "outputId": "30f6ec2a-6483-4687-b374-a607fbbf8d97"
      },
      "execution_count": null,
      "outputs": [
        {
          "output_type": "stream",
          "name": "stdout",
          "text": [
            "Fitting successfully\n"
          ]
        }
      ]
    },
    {
      "cell_type": "code",
      "source": [
        "y_pred = reg.predict(X_test)"
      ],
      "metadata": {
        "id": "dvPE0Ym48vox"
      },
      "execution_count": null,
      "outputs": []
    },
    {
      "cell_type": "code",
      "source": [
        "accuracy_score(y_test, y_pred)"
      ],
      "metadata": {
        "colab": {
          "base_uri": "https://localhost:8080/"
        },
        "id": "9bL0K5Py-l7Y",
        "outputId": "332dd702-9175-4d22-d328-b2511e5b2c07"
      },
      "execution_count": null,
      "outputs": [
        {
          "output_type": "execute_result",
          "data": {
            "text/plain": [
              "1.0"
            ]
          },
          "metadata": {},
          "execution_count": 48
        }
      ]
    },
    {
      "cell_type": "code",
      "source": [
        "# RMSprop\n",
        "rms = LogisticRegression(X_train, y_train)"
      ],
      "metadata": {
        "id": "N83kz8Ib97g-"
      },
      "execution_count": null,
      "outputs": []
    },
    {
      "cell_type": "code",
      "source": [
        "rms.rmsprop()"
      ],
      "metadata": {
        "colab": {
          "base_uri": "https://localhost:8080/"
        },
        "id": "nCTXYMsJVWUt",
        "outputId": "56de538e-40e1-48f3-a824-34740cb7f735"
      },
      "execution_count": null,
      "outputs": [
        {
          "output_type": "stream",
          "name": "stdout",
          "text": [
            "Fitting rmsprop successfully\n"
          ]
        }
      ]
    },
    {
      "cell_type": "code",
      "source": [
        "rms_pred = rms.predict(X_test)\n",
        "rms_pred"
      ],
      "metadata": {
        "colab": {
          "base_uri": "https://localhost:8080/"
        },
        "id": "uldfVsuTXh_M",
        "outputId": "897836b5-54e7-4540-9ae0-579ab18cdcdd"
      },
      "execution_count": null,
      "outputs": [
        {
          "output_type": "execute_result",
          "data": {
            "text/plain": [
              "array([1, 1, 1, 0, 0, 0, 0, 1, 0, 0, 0, 0, 1, 0, 1, 0, 1, 1, 0, 0])"
            ]
          },
          "metadata": {},
          "execution_count": 89
        }
      ]
    },
    {
      "cell_type": "code",
      "source": [
        "accuracy_score(y_test, rms_pred)"
      ],
      "metadata": {
        "colab": {
          "base_uri": "https://localhost:8080/"
        },
        "id": "lQ-n3E2bv4KA",
        "outputId": "1ddcf8b5-0601-452d-9181-e0739ebbd005"
      },
      "execution_count": null,
      "outputs": [
        {
          "output_type": "execute_result",
          "data": {
            "text/plain": [
              "1.0"
            ]
          },
          "metadata": {},
          "execution_count": 90
        }
      ]
    },
    {
      "cell_type": "code",
      "source": [
        "# NADAM\n",
        "nadam = LogisticRegression(X_train, y_train)"
      ],
      "metadata": {
        "id": "jnxhF2G1wDFJ"
      },
      "execution_count": null,
      "outputs": []
    },
    {
      "cell_type": "code",
      "source": [
        "nadam.nadam()"
      ],
      "metadata": {
        "colab": {
          "base_uri": "https://localhost:8080/"
        },
        "id": "vWzCpmuFZ_nz",
        "outputId": "8a0f3659-9ae8-4a98-8a5c-04f962785e5c"
      },
      "execution_count": null,
      "outputs": [
        {
          "output_type": "stream",
          "name": "stdout",
          "text": [
            "Fitting nadam successfully\n"
          ]
        }
      ]
    },
    {
      "cell_type": "code",
      "source": [
        "nadam.predict(X_test)"
      ],
      "metadata": {
        "colab": {
          "base_uri": "https://localhost:8080/"
        },
        "id": "F_FBmPBcZ_qL",
        "outputId": "e26509d9-79cc-402d-bb74-3610678d6941"
      },
      "execution_count": null,
      "outputs": [
        {
          "output_type": "execute_result",
          "data": {
            "text/plain": [
              "array([1, 1, 1, 0, 0, 0, 0, 1, 0, 0, 0, 0, 1, 0, 1, 0, 1, 1, 0, 0])"
            ]
          },
          "metadata": {},
          "execution_count": 100
        }
      ]
    },
    {
      "cell_type": "code",
      "source": [
        "accuracy_score(y_test, nadam.predict(X_test))"
      ],
      "metadata": {
        "colab": {
          "base_uri": "https://localhost:8080/"
        },
        "id": "UXOmSzLXSIfc",
        "outputId": "52a77126-95b8-4c20-af0b-5c501e9ad4f8"
      },
      "execution_count": null,
      "outputs": [
        {
          "output_type": "execute_result",
          "data": {
            "text/plain": [
              "1.0"
            ]
          },
          "metadata": {},
          "execution_count": 101
        }
      ]
    },
    {
      "cell_type": "code",
      "source": [],
      "metadata": {
        "id": "dOEQAczxSNve"
      },
      "execution_count": null,
      "outputs": []
    }
  ]
}